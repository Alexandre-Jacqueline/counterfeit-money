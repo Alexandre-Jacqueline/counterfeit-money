{
 "cells": [
  {
   "cell_type": "markdown",
   "metadata": {},
   "source": [
    "# Set up "
   ]
  },
  {
   "cell_type": "code",
   "execution_count": 1,
   "metadata": {},
   "outputs": [],
   "source": [
    "import pandas as pd\n",
    "import numpy as np\n",
    "import pickle\n",
    "from sklearn import preprocessing\n",
    "import os\n",
    "os.chdir('/Users/alexandrejacqueline/documents/scriptopc/P6')"
   ]
  },
  {
   "cell_type": "markdown",
   "metadata": {},
   "source": [
    "# Programme "
   ]
  },
  {
   "cell_type": "code",
   "execution_count": 2,
   "metadata": {},
   "outputs": [],
   "source": [
    "def test_bank_note(csv_file):\n",
    "    \"\"\"\n",
    "    Détecteur de faux billet\n",
    "    \"\"\"\n",
    "    # Récupération du modèle\n",
    "    with open('classifier_pred.pkl', 'rb') as f1:\n",
    "        my_unpickler = pickle.Unpickler(f1)\n",
    "        classifier = my_unpickler.load()\n",
    "    \n",
    "    data_test = pd.read_csv(csv_file)\n",
    "    bills = data_test.drop(\"id\",axis = 1)\n",
    "    id_bills=data_test[\"id\"]\n",
    "    predictions = classifier.predict_proba(bills)\n",
    "    for i in range (len(bills)):\n",
    "            print(\"billets {} : probabilité que le billet soit vrai = {} %\".format(id_bills[i],round(predictions[i][1]*100)))\n"
   ]
  },
  {
   "cell_type": "code",
   "execution_count": 3,
   "metadata": {
    "scrolled": true
   },
   "outputs": [
    {
     "name": "stdout",
     "output_type": "stream",
     "text": [
      "billets A_1 : probabilité que le billet soit vrai = 5 %\n",
      "billets A_2 : probabilité que le billet soit vrai = 1 %\n",
      "billets A_3 : probabilité que le billet soit vrai = 4 %\n",
      "billets A_4 : probabilité que le billet soit vrai = 86 %\n",
      "billets A_5 : probabilité que le billet soit vrai = 99 %\n"
     ]
    }
   ],
   "source": [
    "test_bank_note('test_banknote.csv') "
   ]
  }
 ],
 "metadata": {
  "kernelspec": {
   "display_name": "Python 3",
   "language": "python",
   "name": "python3"
  },
  "language_info": {
   "codemirror_mode": {
    "name": "ipython",
    "version": 3
   },
   "file_extension": ".py",
   "mimetype": "text/x-python",
   "name": "python",
   "nbconvert_exporter": "python",
   "pygments_lexer": "ipython3",
   "version": "3.7.4"
  }
 },
 "nbformat": 4,
 "nbformat_minor": 2
}
